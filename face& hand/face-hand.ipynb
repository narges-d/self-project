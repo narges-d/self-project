{
 "cells": [
  {
   "cell_type": "code",
   "execution_count": null,
   "id": "c5232e9c-14fb-43fb-a2a4-9fee82ee2c2c",
   "metadata": {},
   "outputs": [],
   "source": [
    "import cv2\n",
    "import mediapipe as mp\n",
    "\n",
    "# MediaPipe solutions\n",
    "mp_hands = mp.solutions.hands\n",
    "mp_draw = mp.solutions.drawing_utils\n",
    "mp_face = mp.solutions.face_detection\n",
    "\n",
    "# Initialize webcam\n",
    "cap = cv2.VideoCapture(0)\n",
    "\n",
    "with mp_hands.Hands(\n",
    "    max_num_hands=2,\n",
    "    min_detection_confidence=0.7,\n",
    "    min_tracking_confidence=0.7\n",
    ") as hands, mp_face.FaceDetection(min_detection_confidence=0.7) as face_detection:\n",
    "\n",
    "    while True:\n",
    "        ret, frame = cap.read()\n",
    "        if not ret:\n",
    "            break\n",
    "\n",
    "        img_rgb = cv2.cvtColor(frame, cv2.COLOR_BGR2RGB)\n",
    "\n",
    "        # Hand detection\n",
    "        results_hands = hands.process(img_rgb)\n",
    "\n",
    "        if results_hands.multi_hand_landmarks:\n",
    "            for hand_landmarks in results_hands.multi_hand_landmarks:\n",
    "                mp_draw.draw_landmarks(frame, hand_landmarks, mp_hands.HAND_CONNECTIONS)\n",
    "\n",
    "        # Face detection\n",
    "        results_face = face_detection.process(img_rgb)\n",
    "        if results_face.detections:\n",
    "            for detection in results_face.detections:\n",
    "                # Get bounding box\n",
    "                bboxC = detection.location_data.relative_bounding_box\n",
    "                h, w, c = frame.shape\n",
    "                x, y, w_box, h_box = int(bboxC.xmin * w), int(bboxC.ymin * h), \\\n",
    "                                     int(bboxC.width * w), int(bboxC.height * h)\n",
    "                cv2.rectangle(frame, (x, y), (x + w_box, y + h_box), (0, 255, 0), 2)\n",
    "\n",
    "        # Show result\n",
    "        cv2.imshow(\"Hand + Face Detection\", frame)\n",
    "\n",
    "        if cv2.waitKey(1) & 0xFF == ord('q'):\n",
    "            break\n",
    "\n",
    "cap.release()\n",
    "cv2.destroyAllWindows()\n"
   ]
  }
 ],
 "metadata": {
  "kernelspec": {
   "display_name": "Python 3.10 (GPU)",
   "language": "python",
   "name": "py310"
  },
  "language_info": {
   "codemirror_mode": {
    "name": "ipython",
    "version": 3
   },
   "file_extension": ".py",
   "mimetype": "text/x-python",
   "name": "python",
   "nbconvert_exporter": "python",
   "pygments_lexer": "ipython3",
   "version": "3.10.11"
  }
 },
 "nbformat": 4,
 "nbformat_minor": 5
}
