{
  "nbformat": 4,
  "nbformat_minor": 0,
  "metadata": {
    "colab": {
      "provenance": []
    },
    "kernelspec": {
      "name": "python3",
      "display_name": "Python 3"
    },
    "language_info": {
      "name": "python"
    }
  },
  "cells": [
    {
      "cell_type": "markdown",
      "source": [
        "#Task 1: Import Libraries and Define the Gemini API Key"
      ],
      "metadata": {
        "id": "LjqboGL0uC0v"
      }
    },
    {
      "cell_type": "code",
      "execution_count": null,
      "metadata": {
        "id": "PgUzdnuyt8tZ"
      },
      "outputs": [],
      "source": [
        "!pip install -U google-generativeai\n"
      ]
    },
    {
      "cell_type": "code",
      "source": [
        "import google.generativeai as genai\n",
        "import gradio as gr\n",
        "import threading\n",
        "import time"
      ],
      "metadata": {
        "id": "VxC0oUUit9dX"
      },
      "execution_count": null,
      "outputs": []
    },
    {
      "cell_type": "code",
      "source": [
        "genai.configure(api_key=\"API KEY HERE\")"
      ],
      "metadata": {
        "id": "zh8YXektt9aw"
      },
      "execution_count": null,
      "outputs": []
    },
    {
      "cell_type": "markdown",
      "source": [
        "#Task 2: Chat with Gemini"
      ],
      "metadata": {
        "id": "0bOvUYdLurRY"
      }
    },
    {
      "cell_type": "code",
      "source": [
        "import google.generativeai as genai\n",
        "import gradio as gr\n",
        "import threading\n",
        "import time\n",
        "'''\n",
        "      need these pips:\n",
        "      --!pip install gradio\n",
        "      ---!pip install -U google-generativeai\n",
        "\n",
        "      1) inter your API Key from https://makersuite.google.com/app\n",
        "      2) select one of model you are access , check it model you access with:\n",
        "     -----for m in genai.list_models():\n",
        "        ----- print(m.name)\n",
        "       3) strat chat\n",
        "\n",
        "'''\n",
        "#\n",
        "model = genai.GenerativeModel(\"gemini-2.0-flash\") # select your model\n",
        "\n",
        "chat = model.start_chat()\n",
        "iface = None #for closing\n",
        "def respond(user_input):\n",
        "    '''\n",
        "      here we define threading for close interface, mean we define in the background this function as same as we strat,\n",
        "      that we need can use it and after 2 second close it.\n",
        "      also can use :\n",
        "      import asyncio\n",
        "      and replace rest with :\n",
        "      asyncio.create_task(close_interface_async())\n",
        "      async def close_interface_async():\n",
        "        await asyncio.sleep(2)\n",
        "        iface.close()\n",
        "    '''\n",
        "\n",
        "    global iface\n",
        "    if user_input.lower() in [\"bye\", \"quit\", \"exit\"]:\n",
        "        threading.Thread(target=close_interface).start()\n",
        "\n",
        "        return \"Thank you for chatting with us. Goodbye!\"\n",
        "\n",
        "    response = chat.send_message(user_input)\n",
        "    return response.text\n",
        "\n",
        "def close_interface():\n",
        "    time.sleep(2)\n",
        "    iface.close()\n",
        "# Gradio UI\n",
        "iface = gr.Interface(\n",
        "    fn=respond,\n",
        "    inputs=gr.Textbox(lines=2, placeholder=\"How Can I Help You...\"),\n",
        "    outputs=\"text\",\n",
        "    title=\"Gemini 🤖 Chatbot\",\n",
        "    description=\"Welcome to our customer service chatbot!\"\n",
        ")\n",
        "\n",
        "iface.launch(share=True,debug=True)"
      ],
      "metadata": {
        "id": "FeU_S1omt9Hv"
      },
      "execution_count": null,
      "outputs": []
    },
    {
      "cell_type": "markdown",
      "source": [
        "#🎉 Congratulations! You made your first chatbot!\n"
      ],
      "metadata": {
        "id": "wcJ9UNCevtWQ"
      }
    }
  ]
}
